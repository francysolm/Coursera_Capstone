{
 "cells": [
  {
   "cell_type": "markdown",
   "metadata": {},
   "source": [
    "<h1>Car Severity Accident</h1>\n",
    "\n",
    "\n",
    "<h3>Data Understanding</h3>\n",
    "\n"
   ]
  },
  {
   "cell_type": "markdown",
   "metadata": {},
   "source": [
    "<FONT SIZE=3>The project's objective from this is describes fatality of accidents. \n",
    "Given that the number of accidents on busy roads is creating problems in the city's transportation. \n",
    "\n",
    "We want to determine under what circumstances a serious traffic accident is most likely to occur. \n",
    "\n",
    "Among the factors to be evaluated will be the type of crash, and means of transport, \n",
    "the weather and the road conditions about the possibility of you getting into a car accident and how severe it would be.</font><FONT SIZE=3>"
   ]
  },
  {
   "cell_type": "code",
   "execution_count": null,
   "metadata": {},
   "outputs": [],
   "source": []
  }
 ],
 "metadata": {
  "anaconda-cloud": {},
  "kernelspec": {
   "display_name": "Python 3.6",
   "language": "python",
   "name": "python3"
  },
  "language_info": {
   "codemirror_mode": {
    "name": "ipython",
    "version": 3
   },
   "file_extension": ".py",
   "mimetype": "text/x-python",
   "name": "python",
   "nbconvert_exporter": "python",
   "pygments_lexer": "ipython3",
   "version": "3.6.9"
  }
 },
 "nbformat": 4,
 "nbformat_minor": 2
}
